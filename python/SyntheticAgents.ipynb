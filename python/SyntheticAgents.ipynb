{
 "cells": [
  {
   "cell_type": "code",
   "execution_count": 7,
   "metadata": {
    "collapsed": false
   },
   "outputs": [],
   "source": [
    "import matplotlib.pyplot as plt\n",
    "import scipy.stats as stats\n",
    "import numpy as np\n",
    "\n",
    "\n",
    "class Bandit(object):\n",
    "    def __init__(self, n_arms):\n",
    "        # each arm is a gaussian with mean randomly sampled from ~N(0, 1)\n",
    "        self.bandits_mu = stats.norm(0, 1).rvs(n_arms)\n",
    "        \n",
    "        # remembers the best arm\n",
    "        self.best_arm = np.argmax(self.bandits_mu)\n",
    "        \n",
    "        # instantiate the gaussians arms with predefined mu and variance 1\n",
    "        self.arms = [stats.norm(mu, 1) for mu in self.bandits_mu]\n",
    "        \n",
    "    def play(self, arm):\n",
    "        \"\"\"\n",
    "        Returns the reward of playing a given arm\n",
    "        \"\"\"\n",
    "        return self.arms[arm].rvs(1)[0]\n",
    "\n"
   ]
  },
  {
   "cell_type": "code",
   "execution_count": 10,
   "metadata": {
    "collapsed": true
   },
   "outputs": [],
   "source": [
    "class UniformAgent(object):\n",
    "    def __init__(self, bandit):\n",
    "        self.bandit = bandit\n",
    "        \n",
    "        # assigns uniformly random probs. to arms, then normalize\n",
    "        self.probabilities = stats.uniform(0, 1).rvs(len(bandit.arms))\n",
    "        \n",
    "        sum_probs = sum(self.probabilities)\n",
    "        \n",
    "        # normalizes\n",
    "        self.probabilities = [p / sum_probs for p in self.probabilities]\n",
    "        \n",
    "        #checks\n",
    "        assert np.isclose(1, sum(self.probabilities))\n",
    "        \n",
    "        #saves cumulative probabilities:\n",
    "        self.cumprobs = np.cumsum(self.probabilities)\n",
    "        \n",
    "    def choose_arm(self):\n",
    "        \"\"\"\n",
    "        Selects an arm in proportion with the probabilities\n",
    "        \"\"\"\n",
    "        # code copied from OpenAI Gym gym/envs/toy_text/discrete.py\n",
    "        return (self.cumprobs > np.random.rand()).argmax()\n",
    "        \n",
    "    def greedy(self):\n",
    "        \"\"\"\n",
    "        Returns the arm with highest probability\n",
    "        \"\"\"\n",
    "        return np.argmax(self.probabilities)"
   ]
  },
  {
   "cell_type": "code",
   "execution_count": 14,
   "metadata": {
    "collapsed": false
   },
   "outputs": [
    {
     "data": {
      "text/plain": [
       "1"
      ]
     },
     "execution_count": 14,
     "metadata": {},
     "output_type": "execute_result"
    }
   ],
   "source": [
    "b = Bandit(10)\n",
    "a = UniformAgent(b)\n",
    "a.greedy()"
   ]
  },
  {
   "cell_type": "code",
   "execution_count": 32,
   "metadata": {
    "collapsed": false
   },
   "outputs": [
    {
     "data": {
      "text/plain": [
       "6"
      ]
     },
     "execution_count": 32,
     "metadata": {},
     "output_type": "execute_result"
    }
   ],
   "source": [
    "a.choose_arm()"
   ]
  },
  {
   "cell_type": "code",
   "execution_count": null,
   "metadata": {
    "collapsed": true
   },
   "outputs": [],
   "source": []
  }
 ],
 "metadata": {
  "kernelspec": {
   "display_name": "Python 3",
   "language": "python",
   "name": "python3"
  },
  "language_info": {
   "codemirror_mode": {
    "name": "ipython",
    "version": 3
   },
   "file_extension": ".py",
   "mimetype": "text/x-python",
   "name": "python",
   "nbconvert_exporter": "python",
   "pygments_lexer": "ipython3",
   "version": "3.5.2"
  }
 },
 "nbformat": 4,
 "nbformat_minor": 2
}
